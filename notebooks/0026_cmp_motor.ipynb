{
 "cells": [
  {
   "cell_type": "markdown",
   "id": "d5748e00-bb81-4faf-b732-aa97ae0019aa",
   "metadata": {},
   "source": [
    "# <font color='navy'> <i><b> STEMFIE-X DC Motors and Motor Mounting </i></b> </font>\n",
    "\n",
    "<img src=\"./img/banner_02.png\" width=\"800\">\n",
    "\n",
    "## <font color='purple'> <b> Library classes </b></font>\n",
    "\n",
    "    Motor_D25()            DC Motor 25mm diamater with gearbox\n",
    "    Motor_D25_Holder()     Mounting block for Motor_D25()  \n",
    "\n",
    " <table>\n",
    "  <tr>\n",
    "    <th>  <img src=\"./img/comp_MOT_D25.png\" width=\"200\"> </th>\n",
    "    <th>  <img src=\"./img/comp_MTH_D25.png\" width=\"200\">  </th>\n",
    "  </tr>\n",
    "</table> "
   ]
  },
  {
   "cell_type": "code",
   "execution_count": 2,
   "id": "53fbc6d5-7c18-49ef-a762-660b1bfb635f",
   "metadata": {},
   "outputs": [],
   "source": [
    "from lib import *\n",
    "m1 = Motor_D25();         \n",
    "mh = Motor_D25_Holder();  \n",
    "_ = m1.export_step('./step/motor/comp_MOT_D25')\n",
    "_ = mh.export_step('./step/motor/comp_MTH_D25')"
   ]
  },
  {
   "cell_type": "markdown",
   "id": "d4238c04-31c6-4a9e-a354-1b960d82ed1d",
   "metadata": {},
   "source": [
    "## <font color='teal'> <b> Example -  Simple electric winch </b></font>\n",
    "\n",
    " <table>\n",
    "  <tr>\n",
    "    <th>  <img src=\"./img/mt_img_01.png\" width=\"350\"> </th>\n",
    "    <th>  <img src=\"./img/mt_img_05.png\" width=\"350\">  </th>\n",
    "  </tr>\n",
    "</table> "
   ]
  },
  {
   "cell_type": "markdown",
   "id": "8dffadfd-446d-4b91-aca4-d2c1f795f36b",
   "metadata": {},
   "source": [
    "<img src=\"./img/banner_02.png\" width=\"800\">"
   ]
  }
 ],
 "metadata": {
  "kernelspec": {
   "display_name": "Python 3 (ipykernel)",
   "language": "python",
   "name": "python3"
  },
  "language_info": {
   "codemirror_mode": {
    "name": "ipython",
    "version": 3
   },
   "file_extension": ".py",
   "mimetype": "text/x-python",
   "name": "python",
   "nbconvert_exporter": "python",
   "pygments_lexer": "ipython3",
   "version": "3.13.2"
  },
  "widgets": {
   "application/vnd.jupyter.widget-state+json": {
    "state": {},
    "version_major": 2,
    "version_minor": 0
   }
  }
 },
 "nbformat": 4,
 "nbformat_minor": 5
}
