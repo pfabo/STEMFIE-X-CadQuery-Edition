{
 "cells": [
  {
   "cell_type": "markdown",
   "id": "d6641843-ab72-432e-9862-76e8a0852952",
   "metadata": {},
   "source": [
    "# <font color='navy'> <i><b> STEMFIE-X Component connection - Fixed connections </i></b> </font>\n",
    "<img src=\"./img/banner_02.png\" width=\"800\">\n",
    "\n",
    "## <font color='purple'> <b> Screews </b></font>\n",
    "\n",
    "As standard fasteners, you can use cheap M4 screws and nuts, which are available in any hardware store. They can be purchased in various lengths and finishes. \n",
    "\n",
    "**Suitable types  M4x8, M4x10, M4x15, M4x20**\n",
    "\n",
    "*  DIN912 Hexagon socket head cap screw\n",
    "*  DIN7984 Hexagon socket head cap screw with low head\n",
    "*  DIN934 Hexagon nut \n",
    "*  DIN439 Hexagonal nut, low profile\n",
    "\n",
    "<img src='./img/m4_912_screew.jpg' width=\"400\">\n",
    "\n",
    "If you buy whole packs, the price can be very affordable, e.g. 100pcs DIN912 M4x10 costs 1.8 euro. If you want to use toys and models outdoors, choose galvanized screws.\n",
    "\n",
    "### <font color='teal'> <b> Tools </b></font>\n",
    "\n",
    "To build your constructions and models, commonly available tools and, of course, the necessary amount of skill are sufficient.\n",
    "\n",
    "*  Hex keys (Hex wrench, Allen key, Allen wrench, Inbus) - for working with screews and pins\n",
    "*  Fine sandpaper for printed surface and dimension finishing\n",
    "*  Needle files for adjusting hole diameters\n",
    "\n",
    "### <font color='teal'> <b> Usage </b></font>\n",
    "\n",
    "For connecting thin elements (e.g. Brace with BU=1/4) it is advisable to use a screw with a nut, similar to the case with metal kits (Meccano, Merkur ..). For connecting thicker parts (BU = 1/2 and more) we can use the fact that the printed holes are slightly smaller and the screws cut their own thread in them. If necessary, you can adjust the size of the **HR** variable (hole radius) in the **./lib/base.py** file.\n",
    "\n",
    "<img src='./img/asm_01.png' width=\"800\">\n",
    "<img src='./img/asm_02.png' width=\"800\">"
   ]
  },
  {
   "cell_type": "markdown",
   "id": "50313dd7-8fbd-4187-b069-fdbad8af4ac0",
   "metadata": {},
   "source": [
    "## <font color='purple'> <b> Hidden joints </b></font>\n",
    "\n",
    "If the screw heads are in the way in some joints, it is possible to use set screws on the joints with a little skill.\n",
    "\n",
    "**Suitable types  M4x8, M4x10, M4x15, M4x20**\n",
    "\n",
    "* DIN 913 Set screw with flat point\n",
    "* DIN 916 Threaded pin\n",
    "\n",
    "<img src='./img/m4_913_cervik.jpg' width=\"400\">\n",
    "\n",
    "### <font color='teal'> <b> Usage </b></font>\n",
    "\n",
    "<img src='./img/pin_01.png' width=\"800\">"
   ]
  },
  {
   "cell_type": "markdown",
   "id": "c522524a-f9bd-4b76-81f2-78f810a3e075",
   "metadata": {},
   "source": [
    "## <font color='purple'> <b> Screwed spacer sleeve </b></font>\n",
    "\n",
    "For connecting components that are to be separated from each other, it is advisable to use ready-made screwed spacer sleeve, metal or plastic, used in electronics for mounting printed circuit boards. They are made of polyamide or metal, with different threads or without, different lengths and designs.\n",
    "\n",
    "### <font color='teal'> <b> Usage </b></font>\n",
    "\n",
    "<img src='./img/spacer.png' width=\"400\">"
   ]
  },
  {
   "cell_type": "markdown",
   "id": "90055592-c3e3-4edb-9397-0821fc637da1",
   "metadata": {},
   "source": [
    "<img src=\"./img/banner_02.png\" width=\"800\">"
   ]
  }
 ],
 "metadata": {
  "kernelspec": {
   "display_name": "Python 3 (ipykernel)",
   "language": "python",
   "name": "python3"
  },
  "language_info": {
   "codemirror_mode": {
    "name": "ipython",
    "version": 3
   },
   "file_extension": ".py",
   "mimetype": "text/x-python",
   "name": "python",
   "nbconvert_exporter": "python",
   "pygments_lexer": "ipython3",
   "version": "3.13.2"
  },
  "widgets": {
   "application/vnd.jupyter.widget-state+json": {
    "state": {},
    "version_major": 2,
    "version_minor": 0
   }
  }
 },
 "nbformat": 4,
 "nbformat_minor": 5
}
