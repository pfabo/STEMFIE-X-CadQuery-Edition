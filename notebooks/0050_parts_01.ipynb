{
 "cells": [
  {
   "cell_type": "markdown",
   "id": "a36bfaed-4afc-4119-9187-cf147005fcb8",
   "metadata": {},
   "source": [
    "# <font color='navy'> <i><b> STEMFIE-X Simple constructions </i></b> </font>\n",
    "<img src=\"./img/banner_02.png\" width=\"800\">"
   ]
  },
  {
   "cell_type": "markdown",
   "id": "8e6983a6-ee2d-4e60-a8b2-c0f0330da4e7",
   "metadata": {},
   "source": [
    "## <font color='teal'> <b> Crank Handle </b></font>\n",
    "\n",
    "Crank handle composed from wheel, cylinder and M4 screew (25mm length).\n",
    "\n",
    "<img src='./img/kluka.png' width=\"800\">\n",
    "\n",
    "```Python\n",
    "w1 = Whell(3, 1/2);          w1.export_step('./step/wheel_03_12') \n",
    "c1 = BU_Cylinder(1, 1+1/2);  c1.export_step('./step/base_C_01_32')\n",
    "```\n"
   ]
  },
  {
   "cell_type": "markdown",
   "id": "cc65b64e-461b-4c2b-bb94-3adae39ac6f9",
   "metadata": {},
   "source": [
    "<img src=\"./img/banner_02.png\" width=\"800\">"
   ]
  }
 ],
 "metadata": {
  "kernelspec": {
   "display_name": "Python 3 (ipykernel)",
   "language": "python",
   "name": "python3"
  },
  "language_info": {
   "codemirror_mode": {
    "name": "ipython",
    "version": 3
   },
   "file_extension": ".py",
   "mimetype": "text/x-python",
   "name": "python",
   "nbconvert_exporter": "python",
   "pygments_lexer": "ipython3",
   "version": "3.13.2"
  },
  "widgets": {
   "application/vnd.jupyter.widget-state+json": {
    "state": {},
    "version_major": 2,
    "version_minor": 0
   }
  }
 },
 "nbformat": 4,
 "nbformat_minor": 5
}
