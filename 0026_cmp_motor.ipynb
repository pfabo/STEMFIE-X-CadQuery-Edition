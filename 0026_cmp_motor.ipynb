{
 "cells": [
  {
   "cell_type": "markdown",
   "id": "3c3302b9-4423-4be9-b402-5a83d87392a9",
   "metadata": {},
   "source": [
    "# <font color='navy'> <i><b> STEMFIE-X DC Motors and Motor Mounting </i></b> </font>\n",
    "<img src=\"./img//demo/banner_02.png\" width=\"800\">\n",
    "\n",
    "## <font color='purple'> <b> Library classes </b></font>\n",
    "\n",
    "    Motor_D25()            DC Motor 25mm diamater with gearbox\n",
    "    Motor_D25_Holder()     Mounting block for Motor_D25()  \n",
    "\n",
    "## <font color='purple'> <b> Usage </b></font>\n",
    "\n",
    "```Python\n",
    "from lib import *\n",
    "m1 = Motor_D25();         m1.export_step('./step/comp_MOT_D25')\n",
    "mh = Motor_D25_Holder();  mh.export_step('./step/comp_MTH_D25')\n",
    "```\n",
    "\n",
    "<img src='./img/assembly/comp_MOT_D25.png' width=\"200\">\n",
    "<img src='./img/assembly/comp_MTH_D25.png' width=\"200\">\n",
    "\n",
    "### <font color='teal'> <b> Example -  Simple electric winch </b></font>\n",
    "\n",
    "<img src='./img/assembly/mt_img_01.png' width=\"400\">\n",
    "<img src='./img/assembly/mt_img_05.png' width=\"400\">\n",
    "\n",
    "<img src=\"./img//demo/banner_02.png\" width=\"800\">\n"
   ]
  }
 ],
 "metadata": {
  "kernelspec": {
   "display_name": "Python 3 (ipykernel)",
   "language": "python",
   "name": "python3"
  },
  "language_info": {
   "codemirror_mode": {
    "name": "ipython",
    "version": 3
   },
   "file_extension": ".py",
   "mimetype": "text/x-python",
   "name": "python",
   "nbconvert_exporter": "python",
   "pygments_lexer": "ipython3",
   "version": "3.12.8"
  },
  "widgets": {
   "application/vnd.jupyter.widget-state+json": {
    "state": {},
    "version_major": 2,
    "version_minor": 0
   }
  }
 },
 "nbformat": 4,
 "nbformat_minor": 5
}
